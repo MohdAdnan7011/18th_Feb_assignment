{
 "cells": [
  {
   "cell_type": "code",
   "execution_count": 1,
   "id": "886c3782",
   "metadata": {},
   "outputs": [
    {
     "data": {
      "text/plain": [
       "'API (Application Programming Interface) is a set of rules and protocols that allows\\ndifferent software applications to communicate with each other. An API defines the\\nmethods and data formats that applications can use to request and exchange information.\\nA common example of API usage in real life is a weather application.'"
      ]
     },
     "execution_count": 1,
     "metadata": {},
     "output_type": "execute_result"
    }
   ],
   "source": [
    "# Question Number 1\n",
    "'''API (Application Programming Interface) is a set of rules and protocols that allows\n",
    "different software applications to communicate with each other. An API defines the\n",
    "methods and data formats that applications can use to request and exchange information.\n",
    "A common example of API usage in real life is a weather application.'''"
   ]
  },
  {
   "cell_type": "code",
   "execution_count": 6,
   "id": "8e7acebc",
   "metadata": {},
   "outputs": [
    {
     "data": {
      "text/plain": [
       "'\\nAdvantages:\\n\\nInteroperability: Enables communication between different systems.\\nEfficiency: Saves development time by reusing existing functionality.\\nScalability: Supports modular and scalable development.\\nInnovation: Encourages the creation of new applications.\\nAutomation: Facilitates automated tasks.\\nSecurity: Provides secure access to services.\\n    \\n    \\nDisadvantages:\\n\\nComplexity: Adds integration and maintenance complexity.\\nDependency: Creates reliance on third-party services.\\nSecurity Risks: Can expose applications to vulnerabilities.\\nPerformance Issues: May introduce latency.\\nCost: Can incur usage fees.\\nVersioning and Compatibility: Can lead to compatibility issues with updates.'"
      ]
     },
     "execution_count": 6,
     "metadata": {},
     "output_type": "execute_result"
    }
   ],
   "source": [
    "# Question Number 2\n",
    "'''\n",
    "Advantages:\n",
    "\n",
    "Interoperability: Enables communication between different systems.\n",
    "Efficiency: Saves development time by reusing existing functionality.\n",
    "Scalability: Supports modular and scalable development.\n",
    "Innovation: Encourages the creation of new applications.\n",
    "Automation: Facilitates automated tasks.\n",
    "Security: Provides secure access to services.\n",
    "    \n",
    "    \n",
    "Disadvantages:\n",
    "\n",
    "Complexity: Adds integration and maintenance complexity.\n",
    "Dependency: Creates reliance on third-party services.\n",
    "Security Risks: Can expose applications to vulnerabilities.\n",
    "Performance Issues: May introduce latency.\n",
    "Cost: Can incur usage fees.\n",
    "Versioning and Compatibility: Can lead to compatibility issues with updates.'''"
   ]
  },
  {
   "cell_type": "code",
   "execution_count": 7,
   "id": "313f7325",
   "metadata": {},
   "outputs": [
    {
     "data": {
      "text/plain": [
       "'A Web API (Web Application Programming Interface) is a type of API that allows\\ncommunication between a client and server over the web using HTTP/HTTPS protocols.\\nWeb APIs are typically used to enable web services, allowing applications to access\\nand interact with web-based resources and services.\\n\\nAPI (Application Programming Interface):\\n\\nGeneral term for interfaces enabling software communication.\\nNot restricted to web protocols.\\nUsed in various applications (libraries, operating systems, etc.).\\nWeb API (Web Application Programming Interface):\\n\\nA type of API specifically for web-based communication using HTTP/HTTPS.\\nPrimarily used for web services and internet-based applications.\\nSuitable for distributed systems and web interactions.'"
      ]
     },
     "execution_count": 7,
     "metadata": {},
     "output_type": "execute_result"
    }
   ],
   "source": [
    "# Question Number 3\n",
    "'''A Web API (Web Application Programming Interface) is a type of API that allows\n",
    "communication between a client and server over the web using HTTP/HTTPS protocols.\n",
    "Web APIs are typically used to enable web services, allowing applications to access\n",
    "and interact with web-based resources and services.\n",
    "\n",
    "API (Application Programming Interface):\n",
    "\n",
    "General term for interfaces enabling software communication.\n",
    "Not restricted to web protocols.\n",
    "Used in various applications (libraries, operating systems, etc.).\n",
    "Web API (Web Application Programming Interface):\n",
    "\n",
    "A type of API specifically for web-based communication using HTTP/HTTPS.\n",
    "Primarily used for web services and internet-based applications.\n",
    "Suitable for distributed systems and web interactions.'''"
   ]
  },
  {
   "cell_type": "code",
   "execution_count": 4,
   "id": "45bdc176",
   "metadata": {},
   "outputs": [],
   "source": [
    "# Question Number 4\n",
    "'''REST (Representational State Transfer):\n",
    "\n",
    "Architectural Style: Uses HTTP methods, stateless, URL-based resources.\n",
    "Data Formats: JSON, XML.\n",
    "Pros: Simplicity, scalability, performance.\n",
    "SOAP (Simple Object Access Protocol):\n",
    "\n",
    "Protocol: Uses XML for message format, can use various transport protocols.\n",
    "Standards: Strict standards, WSDL for service description.\n",
    "Pros: Built-in error handling, security, and extensibility.\n",
    "Cons: Complexity, performance overhead, less flexibility, limited browser support.'''"
   ]
  },
  {
   "cell_type": "code",
   "execution_count": 8,
   "id": "7925e590",
   "metadata": {},
   "outputs": [
    {
     "data": {
      "text/plain": [
       "'Key Differences\\n\\nArchitecture:\\nREST: An architectural style that uses standard HTTP methods.\\nSOAP: A protocol with strict standards.\\n    \\nCommunication:\\nREST: Uses HTTP methods (GET, POST, PUT, DELETE) to perform operations.\\nSOAP: Uses a message format (envelope) with a header and body for communication.\\n    \\nData Format:\\nREST: Supports multiple formats, primarily JSON and XML.\\nSOAP: Uses XML exclusively.\\n    \\nStatelessness:\\nREST: Stateless; each request contains all necessary information.\\nSOAP: Can be stateful or stateless.\\n    \\nEase of Use:\\nREST: Easier to use and understand, especially for web services.\\nSOAP: More complex due to its strict standards and extensive use of XML.\\n    \\nPerformance:\\nREST: Generally faster and uses less bandwidth due to JSON.\\nSOAP: Slower due to the larger XML message format and additional processing requirements.\\n    \\nError Handling:\\nREST: Uses standard HTTP status codes for error handling.\\nSOAP: Has built-in error handling with detailed error messages in the XML response.\\n    \\nSecurity:\\nREST: Relies on underlying protocols (e.g., HTTPS) for security.\\nSOAP: Provides additional security features such as WS-Security.\\n    \\nFlexibility:\\nREST: More flexible and can be used with various protocols (HTTP, HTTPS).\\nSOAP: Less flexible, primarily used with HTTP but can work with other protocols (SMTP, TCP).'"
      ]
     },
     "execution_count": 8,
     "metadata": {},
     "output_type": "execute_result"
    }
   ],
   "source": [
    "# Question Number 5\n",
    "\n",
    "'''Key Differences\n",
    "\n",
    "Architecture:\n",
    "REST: An architectural style that uses standard HTTP methods.\n",
    "SOAP: A protocol with strict standards.\n",
    "    \n",
    "Communication:\n",
    "REST: Uses HTTP methods (GET, POST, PUT, DELETE) to perform operations.\n",
    "SOAP: Uses a message format (envelope) with a header and body for communication.\n",
    "    \n",
    "Data Format:\n",
    "REST: Supports multiple formats, primarily JSON and XML.\n",
    "SOAP: Uses XML exclusively.\n",
    "    \n",
    "Statelessness:\n",
    "REST: Stateless; each request contains all necessary information.\n",
    "SOAP: Can be stateful or stateless.\n",
    "    \n",
    "Ease of Use:\n",
    "REST: Easier to use and understand, especially for web services.\n",
    "SOAP: More complex due to its strict standards and extensive use of XML.\n",
    "    \n",
    "Performance:\n",
    "REST: Generally faster and uses less bandwidth due to JSON.\n",
    "SOAP: Slower due to the larger XML message format and additional processing requirements.\n",
    "    \n",
    "Error Handling:\n",
    "REST: Uses standard HTTP status codes for error handling.\n",
    "SOAP: Has built-in error handling with detailed error messages in the XML response.\n",
    "    \n",
    "Security:\n",
    "REST: Relies on underlying protocols (e.g., HTTPS) for security.\n",
    "SOAP: Provides additional security features such as WS-Security.\n",
    "    \n",
    "Flexibility:\n",
    "REST: More flexible and can be used with various protocols (HTTP, HTTPS).\n",
    "SOAP: Less flexible, primarily used with HTTP but can work with other protocols (SMTP, TCP).'''"
   ]
  },
  {
   "cell_type": "code",
   "execution_count": null,
   "id": "3e7b55af",
   "metadata": {},
   "outputs": [],
   "source": []
  }
 ],
 "metadata": {
  "kernelspec": {
   "display_name": "Python 3 (ipykernel)",
   "language": "python",
   "name": "python3"
  },
  "language_info": {
   "codemirror_mode": {
    "name": "ipython",
    "version": 3
   },
   "file_extension": ".py",
   "mimetype": "text/x-python",
   "name": "python",
   "nbconvert_exporter": "python",
   "pygments_lexer": "ipython3",
   "version": "3.11.5"
  }
 },
 "nbformat": 4,
 "nbformat_minor": 5
}
